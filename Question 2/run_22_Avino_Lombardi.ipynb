{
 "cells": [
  {
   "cell_type": "code",
   "execution_count": 1,
   "id": "3d7b8bbe",
   "metadata": {},
   "outputs": [
    {
     "name": "stdout",
     "output_type": "stream",
     "text": [
      "[0.89875, 0.71, 0.72375, 0.6512500000000001, 0.88125, 0.6937500000000001, 0.7050000000000001, 0.625, 0.8825, 0.7, 0.6975, 0.6325000000000001, 0.8825, 0.7224999999999999, 0.6725, 0.6300000000000001, 0.8799999999999999, 0.69375, 0.6824999999999999, 0.6449999999999999, 0.8787499999999999, 0.665, 0.6925000000000001, 0.66125, 0.8787499999999999, 0.70125, 0.6975, 0.67125, 0.8774999999999998, 0.68875, 0.6812499999999999, 0.6662500000000001, 0.87625, 0.6874999999999999, 0.6912499999999999, 0.66, 0.87375, 0.6875, 0.6849999999999999, 0.65125]\n",
      "[{'C': 1, 'p': 2}, {'C': 1, 'p': 3}, {'C': 1, 'p': 4}, {'C': 1, 'p': 5}, {'C': 2, 'p': 2}, {'C': 2, 'p': 3}, {'C': 2, 'p': 4}, {'C': 2, 'p': 5}, {'C': 3, 'p': 2}, {'C': 3, 'p': 3}, {'C': 3, 'p': 4}, {'C': 3, 'p': 5}, {'C': 4, 'p': 2}, {'C': 4, 'p': 3}, {'C': 4, 'p': 4}, {'C': 4, 'p': 5}, {'C': 5, 'p': 2}, {'C': 5, 'p': 3}, {'C': 5, 'p': 4}, {'C': 5, 'p': 5}, {'C': 6, 'p': 2}, {'C': 6, 'p': 3}, {'C': 6, 'p': 4}, {'C': 6, 'p': 5}, {'C': 7, 'p': 2}, {'C': 7, 'p': 3}, {'C': 7, 'p': 4}, {'C': 7, 'p': 5}, {'C': 8, 'p': 2}, {'C': 8, 'p': 3}, {'C': 8, 'p': 4}, {'C': 8, 'p': 5}, {'C': 9, 'p': 2}, {'C': 9, 'p': 3}, {'C': 9, 'p': 4}, {'C': 9, 'p': 5}, {'C': 10, 'p': 2}, {'C': 10, 'p': 3}, {'C': 10, 'p': 4}, {'C': 10, 'p': 5}]\n",
      "0.89875\n",
      "0.89875\n",
      "{'C': 1, 'p': 2}\n",
      "Best hyperparameters found: C = 1, p = 2\n",
      "🔹 Final value of dual objective: -122.4522\n",
      "🔹 Iterations: 15\n",
      "🔹 CPU time: 0.8343 seconds\n",
      "\n",
      " FINAL REPORT - QUESTION 2\n"
     ]
    },
    {
     "data": {
      "application/vnd.microsoft.datawrangler.viewer.v0+json": {
       "columns": [
        {
         "name": "index",
         "rawType": "int64",
         "type": "integer"
        },
        {
         "name": "KERNEL",
         "rawType": "object",
         "type": "string"
        },
        {
         "name": "C",
         "rawType": "int64",
         "type": "integer"
        },
        {
         "name": "p (or lambda)",
         "rawType": "int64",
         "type": "integer"
        },
        {
         "name": "TRAIN ACCURACY",
         "rawType": "float64",
         "type": "float"
        },
        {
         "name": "TEST ACCURACY",
         "rawType": "float64",
         "type": "float"
        },
        {
         "name": "NUMBER OF ITERATIONS",
         "rawType": "int64",
         "type": "integer"
        },
        {
         "name": "CPU TIME (s)",
         "rawType": "float64",
         "type": "float"
        },
        {
         "name": "DUAL OBJ VALUE",
         "rawType": "float64",
         "type": "float"
        }
       ],
       "ref": "ebd1845d-7fed-4245-8bdd-c8939e909983",
       "rows": [
        [
         "0",
         "polynomial",
         "1",
         "2",
         "0.9288",
         "0.895",
         "15",
         "0.8343",
         "-122.4522"
        ]
       ],
       "shape": {
        "columns": 8,
        "rows": 1
       }
      },
      "text/html": [
       "<div>\n",
       "<style scoped>\n",
       "    .dataframe tbody tr th:only-of-type {\n",
       "        vertical-align: middle;\n",
       "    }\n",
       "\n",
       "    .dataframe tbody tr th {\n",
       "        vertical-align: top;\n",
       "    }\n",
       "\n",
       "    .dataframe thead th {\n",
       "        text-align: right;\n",
       "    }\n",
       "</style>\n",
       "<table border=\"1\" class=\"dataframe\">\n",
       "  <thead>\n",
       "    <tr style=\"text-align: right;\">\n",
       "      <th></th>\n",
       "      <th>KERNEL</th>\n",
       "      <th>C</th>\n",
       "      <th>p (or lambda)</th>\n",
       "      <th>TRAIN ACCURACY</th>\n",
       "      <th>TEST ACCURACY</th>\n",
       "      <th>NUMBER OF ITERATIONS</th>\n",
       "      <th>CPU TIME (s)</th>\n",
       "      <th>DUAL OBJ VALUE</th>\n",
       "    </tr>\n",
       "  </thead>\n",
       "  <tbody>\n",
       "    <tr>\n",
       "      <th>0</th>\n",
       "      <td>polynomial</td>\n",
       "      <td>1</td>\n",
       "      <td>2</td>\n",
       "      <td>0.9288</td>\n",
       "      <td>0.895</td>\n",
       "      <td>15</td>\n",
       "      <td>0.8343</td>\n",
       "      <td>-122.4522</td>\n",
       "    </tr>\n",
       "  </tbody>\n",
       "</table>\n",
       "</div>"
      ],
      "text/plain": [
       "       KERNEL  C  p (or lambda)  TRAIN ACCURACY  TEST ACCURACY  \\\n",
       "0  polynomial  1              2          0.9288          0.895   \n",
       "\n",
       "   NUMBER OF ITERATIONS  CPU TIME (s)  DUAL OBJ VALUE  \n",
       "0                    15        0.8343       -122.4522  "
      ]
     },
     "metadata": {},
     "output_type": "display_data"
    }
   ],
   "source": [
    "# STEP 1: IMPORT FUNZIONI DAL FILE .py E RELOAD\n",
    "import importlib\n",
    "import Functions_22_Avino_Lombardi\n",
    "importlib.reload(Functions_22_Avino_Lombardi)\n",
    "from Functions_22_Avino_Lombardi import *\n",
    "\n",
    "# STEP 2: CARICAMENTO DATI E PREPROCESSING\n",
    "import pandas as pd\n",
    "import numpy as np\n",
    "from sklearn.model_selection import train_test_split\n",
    "from sklearn.preprocessing import StandardScaler\n",
    "\n",
    "# Load dataset\n",
    "df = pd.read_csv(\"../dataset/GENDER_CLASSIFICATION.csv\")\n",
    "\n",
    "# X: features, y: labels\n",
    "X = df.iloc[:, :-1].values\n",
    "y = df.iloc[:, -1].values\n",
    "y = np.where(y == 0, -1, 1)  # Converti etichette in {-1, +1}\n",
    "\n",
    "# Suddivisione in training e test\n",
    "X_train, X_test, y_train, y_test = train_test_split(\n",
    "    X, y, test_size=0.2, shuffle=True, random_state=123\n",
    ")\n",
    "scaler = StandardScaler()\n",
    "X_train = scaler.fit_transform(X_train)\n",
    "X_test = scaler.transform(X_test)\n",
    "\n",
    "# STEP 3: DEFINIZIONE DELLA GRIGLIA DEGLI IPERPARAMETRI\n",
    "grid = {\n",
    "    \"C\": [1, 2, 3, 4, 5, 6, 7, 8, 9, 10],\n",
    "    \"p\": [2, 3, 4, 5]  # Se usi RBF, sostituisci \"p\" con \"gamma\"\n",
    "}\n",
    "\n",
    "# STEP 4: CROSS-VALIDATION PER SELEZIONARE I MIGLIORI IPERPARAMETRI\n",
    "params_comb, val_acc = crossval_svm(\n",
    "    X=X_train,\n",
    "    y=y_train,\n",
    "    k=5,\n",
    "    grid=grid,\n",
    "    kernel_func=polynomial_kernel,\n",
    "    kernel_param_name=\"p\",\n",
    "    use_seed=True\n",
    ")\n",
    "\n",
    "# Selezione dei migliori parametri\n",
    "best_idx = int(np.argmax(val_acc))\n",
    "print(val_acc)\n",
    "print(params_comb)\n",
    "print(val_acc[best_idx])\n",
    "print(max(val_acc))\n",
    "best_params = params_comb[best_idx]\n",
    "print(best_params)\n",
    "best_C = best_params[\"C\"]\n",
    "best_p = best_params[\"p\"]\n",
    "print(f\"Best hyperparameters found: C = {best_C}, p = {best_p}\")\n",
    "\n",
    "# STEP 5: TRAINING COMPLETO CON I MIGLIORI PARAMETRI\n",
    "K_final = compute_kernel_matrix(X_train, y_train, polynomial_kernel, p=best_p)\n",
    "lambdas, num_iter, cpu_time, _ = solve_dual_svm(K_final, y_train, best_C)\n",
    "dual_obj_value = compute_dual_objective(lambdas, K_final)\n",
    "b_final = compute_b(X_train, y_train, lambdas, polynomial_kernel, C=best_C, p=best_p)\n",
    "\n",
    "print(f\"🔹 Final value of dual objective: {dual_obj_value:.4f}\")\n",
    "print(f\"🔹 Iterations: {num_iter}\")\n",
    "print(f\"🔹 CPU time: {cpu_time:.4f} seconds\")\n",
    "\n",
    "# STEP 6: PREDIZIONI E ACCURACY\n",
    "y_train_pred = predict(X_train, y_train, lambdas, b_final, X_train, polynomial_kernel, p=best_p)\n",
    "y_test_pred = predict(X_train, y_train, lambdas, b_final, X_test, polynomial_kernel, p=best_p)\n",
    "\n",
    "train_acc = compute_accuracy(y_train, y_train_pred)\n",
    "test_acc = compute_accuracy(y_test, y_test_pred)\n",
    "\n",
    "# STEP 7: REPORT FINALE\n",
    "summary = pd.DataFrame([{\n",
    "    \"KERNEL\": \"polynomial\",\n",
    "    \"C\": best_C,\n",
    "    \"p (or lambda)\": best_p,\n",
    "    \"TRAIN ACCURACY\": round(train_acc, 4),\n",
    "    \"TEST ACCURACY\": round(test_acc, 4),\n",
    "    \"NUMBER OF ITERATIONS\": num_iter,\n",
    "    \"CPU TIME (s)\": round(cpu_time, 4),\n",
    "    \"DUAL OBJ VALUE\": round(dual_obj_value, 4)\n",
    "}])\n",
    "\n",
    "print(\"\\n FINAL REPORT - QUESTION 2\")\n",
    "display(summary)\n"
   ]
  },
  {
   "cell_type": "code",
   "execution_count": 4,
   "id": "6a694d6f",
   "metadata": {},
   "outputs": [
    {
     "name": "stdout",
     "output_type": "stream",
     "text": [
      "Best hyperparameters found: C = 0.1, gamma = 0.1\n",
      "\n",
      " FINAL REPORT - QUESTION 2\n"
     ]
    },
    {
     "data": {
      "application/vnd.microsoft.datawrangler.viewer.v0+json": {
       "columns": [
        {
         "name": "index",
         "rawType": "int64",
         "type": "integer"
        },
        {
         "name": "KERNEL",
         "rawType": "object",
         "type": "string"
        },
        {
         "name": "C",
         "rawType": "float64",
         "type": "float"
        },
        {
         "name": "gamma",
         "rawType": "float64",
         "type": "float"
        },
        {
         "name": "TRAIN ACCURACY",
         "rawType": "float64",
         "type": "float"
        },
        {
         "name": "TEST ACCURACY",
         "rawType": "float64",
         "type": "float"
        },
        {
         "name": "NUMBER OF ITERATIONS",
         "rawType": "int64",
         "type": "integer"
        },
        {
         "name": "CPU TIME (s)",
         "rawType": "float64",
         "type": "float"
        },
        {
         "name": "DUAL OBJ VALUE",
         "rawType": "float64",
         "type": "float"
        }
       ],
       "ref": "93396203-c9c0-4ede-9462-6ae4ecde65bf",
       "rows": [
        [
         "0",
         "gaussian",
         "0.1",
         "0.1",
         "0.9225",
         "0.905",
         "17",
         "0.9109",
         "-17.1021"
        ]
       ],
       "shape": {
        "columns": 8,
        "rows": 1
       }
      },
      "text/html": [
       "<div>\n",
       "<style scoped>\n",
       "    .dataframe tbody tr th:only-of-type {\n",
       "        vertical-align: middle;\n",
       "    }\n",
       "\n",
       "    .dataframe tbody tr th {\n",
       "        vertical-align: top;\n",
       "    }\n",
       "\n",
       "    .dataframe thead th {\n",
       "        text-align: right;\n",
       "    }\n",
       "</style>\n",
       "<table border=\"1\" class=\"dataframe\">\n",
       "  <thead>\n",
       "    <tr style=\"text-align: right;\">\n",
       "      <th></th>\n",
       "      <th>KERNEL</th>\n",
       "      <th>C</th>\n",
       "      <th>gamma</th>\n",
       "      <th>TRAIN ACCURACY</th>\n",
       "      <th>TEST ACCURACY</th>\n",
       "      <th>NUMBER OF ITERATIONS</th>\n",
       "      <th>CPU TIME (s)</th>\n",
       "      <th>DUAL OBJ VALUE</th>\n",
       "    </tr>\n",
       "  </thead>\n",
       "  <tbody>\n",
       "    <tr>\n",
       "      <th>0</th>\n",
       "      <td>gaussian</td>\n",
       "      <td>0.1</td>\n",
       "      <td>0.1</td>\n",
       "      <td>0.9225</td>\n",
       "      <td>0.905</td>\n",
       "      <td>17</td>\n",
       "      <td>0.9109</td>\n",
       "      <td>-17.1021</td>\n",
       "    </tr>\n",
       "  </tbody>\n",
       "</table>\n",
       "</div>"
      ],
      "text/plain": [
       "     KERNEL    C  gamma  TRAIN ACCURACY  TEST ACCURACY  NUMBER OF ITERATIONS  \\\n",
       "0  gaussian  0.1    0.1          0.9225          0.905                    17   \n",
       "\n",
       "   CPU TIME (s)  DUAL OBJ VALUE  \n",
       "0        0.9109        -17.1021  "
      ]
     },
     "metadata": {},
     "output_type": "display_data"
    }
   ],
   "source": [
    "# STEP 1: IMPORT FUNZIONI DAL FILE .py E RELOAD\n",
    "import importlib\n",
    "import Functions_22_Avino_Lombardi\n",
    "importlib.reload(Functions_22_Avino_Lombardi)\n",
    "from Functions_22_Avino_Lombardi import *\n",
    "\n",
    "# STEP 2: CARICAMENTO DATI E PREPROCESSING\n",
    "import pandas as pd\n",
    "import numpy as np\n",
    "from sklearn.model_selection import train_test_split\n",
    "from sklearn.preprocessing import StandardScaler\n",
    "\n",
    "# Caricamento dataset\n",
    "df = pd.read_csv(\"../dataset/GENDER_CLASSIFICATION.csv\")\n",
    "\n",
    "# Separazione features e labels\n",
    "X = df.iloc[:, :-1].values\n",
    "y = df.iloc[:, -1].values\n",
    "y = np.where(y == 0, -1, 1)  # Etichette in {-1, +1}\n",
    "\n",
    "# Train-test split\n",
    "X_train, X_test, y_train, y_test = train_test_split(\n",
    "    X, y, test_size=0.2, shuffle=True, random_state=123\n",
    ")\n",
    "\n",
    "# Normalizzazione\n",
    "scaler = StandardScaler()\n",
    "X_train = scaler.fit_transform(X_train)\n",
    "X_test = scaler.transform(X_test)\n",
    "\n",
    "# STEP 3: DEFINIZIONE DELLA GRIGLIA IPERPARAMETRI PER RBF (gamma = 1 / (2 * sigma^2))\n",
    "grid = {\n",
    "    \"C\": np.logspace(-5, 3, 9),         # es. da 1e-5 a 1e3\n",
    "    \"gamma\": np.logspace(-8, 4, 13)     # es. da 1e-8 a 1e4\n",
    "}\n",
    "\n",
    "# STEP 4: CROSS-VALIDATION PER SELEZIONARE I MIGLIORI IPERPARAMETRI\n",
    "params_comb, val_acc = crossval_svm(\n",
    "    X=X_train,\n",
    "    y=y_train,\n",
    "    k=5,\n",
    "    grid=grid,\n",
    "    kernel_func=gaussian_kernel,\n",
    "    kernel_param_name=\"gamma\",\n",
    "    use_seed=True\n",
    ")\n",
    "\n",
    "# Selezione dei migliori parametri\n",
    "best_idx = int(np.argmax(val_acc))\n",
    "best_params = params_comb[best_idx]\n",
    "best_C = best_params[\"C\"]\n",
    "best_gamma = best_params[\"gamma\"]\n",
    "\n",
    "print(f\"Best hyperparameters found: C = {best_C}, gamma = {best_gamma}\")\n",
    "\n",
    "# STEP 5: TRAINING COMPLETO CON I MIGLIORI PARAMETRI\n",
    "K_final = compute_kernel_matrix(X_train, y_train, gaussian_kernel, gamma=best_gamma)\n",
    "lambdas, num_iter, cpu_time, _ = solve_dual_svm(K_final, y_train, best_C)\n",
    "dual_obj_value = compute_dual_objective(lambdas, K_final)\n",
    "b_final = compute_b(X_train, y_train, lambdas, gaussian_kernel, C=best_C, gamma=best_gamma)\n",
    "\n",
    "# STEP 6: PREDIZIONE SU TRAIN E TEST SET\n",
    "y_train_pred = predict(X_train, y_train, lambdas, b_final, X_train, gaussian_kernel, gamma=best_gamma)\n",
    "y_test_pred = predict(X_train, y_train, lambdas, b_final, X_test, gaussian_kernel, gamma=best_gamma)\n",
    "\n",
    "train_acc = compute_accuracy(y_train, y_train_pred)\n",
    "test_acc = compute_accuracy(y_test, y_test_pred)\n",
    "\n",
    "# STEP 7: REPORT FINALE\n",
    "summary = pd.DataFrame([{\n",
    "    \"KERNEL\": \"gaussian\",\n",
    "    \"C\": best_C,\n",
    "    \"gamma\": best_gamma,\n",
    "    \"TRAIN ACCURACY\": round(train_acc, 4),\n",
    "    \"TEST ACCURACY\": round(test_acc, 4),\n",
    "    \"NUMBER OF ITERATIONS\": num_iter,\n",
    "    \"CPU TIME (s)\": round(cpu_time, 4),\n",
    "    \"DUAL OBJ VALUE\": round(dual_obj_value, 4)\n",
    "}])\n",
    "\n",
    "print(\"\\n FINAL REPORT - QUESTION 2\")\n",
    "display(summary)\n"
   ]
  },
  {
   "cell_type": "code",
   "execution_count": 1,
   "id": "5d2b19ff",
   "metadata": {},
   "outputs": [
    {
     "name": "stdout",
     "output_type": "stream",
     "text": [
      "Best hyperparameters found: C = 100.0, gamma = 0.001\n",
      "\n",
      " FINAL REPORT - QUESTION 2\n"
     ]
    },
    {
     "data": {
      "application/vnd.microsoft.datawrangler.viewer.v0+json": {
       "columns": [
        {
         "name": "index",
         "rawType": "int64",
         "type": "integer"
        },
        {
         "name": "KERNEL",
         "rawType": "object",
         "type": "string"
        },
        {
         "name": "C",
         "rawType": "float64",
         "type": "float"
        },
        {
         "name": "gamma",
         "rawType": "float64",
         "type": "float"
        },
        {
         "name": "TRAIN ACCURACY",
         "rawType": "float64",
         "type": "float"
        },
        {
         "name": "TEST ACCURACY",
         "rawType": "float64",
         "type": "float"
        },
        {
         "name": "NUMBER OF ITERATIONS",
         "rawType": "int64",
         "type": "integer"
        },
        {
         "name": "CPU TIME (s)",
         "rawType": "float64",
         "type": "float"
        },
        {
         "name": "DUAL OBJ VALUE",
         "rawType": "float64",
         "type": "float"
        }
       ],
       "ref": "590b4877-81eb-4786-9e22-05a221d861a1",
       "rows": [
        [
         "0",
         "gaussian",
         "100.0",
         "0.001",
         "0.9238",
         "0.9",
         "23",
         "1.1468",
         "-13365.4401"
        ]
       ],
       "shape": {
        "columns": 8,
        "rows": 1
       }
      },
      "text/html": [
       "<div>\n",
       "<style scoped>\n",
       "    .dataframe tbody tr th:only-of-type {\n",
       "        vertical-align: middle;\n",
       "    }\n",
       "\n",
       "    .dataframe tbody tr th {\n",
       "        vertical-align: top;\n",
       "    }\n",
       "\n",
       "    .dataframe thead th {\n",
       "        text-align: right;\n",
       "    }\n",
       "</style>\n",
       "<table border=\"1\" class=\"dataframe\">\n",
       "  <thead>\n",
       "    <tr style=\"text-align: right;\">\n",
       "      <th></th>\n",
       "      <th>KERNEL</th>\n",
       "      <th>C</th>\n",
       "      <th>gamma</th>\n",
       "      <th>TRAIN ACCURACY</th>\n",
       "      <th>TEST ACCURACY</th>\n",
       "      <th>NUMBER OF ITERATIONS</th>\n",
       "      <th>CPU TIME (s)</th>\n",
       "      <th>DUAL OBJ VALUE</th>\n",
       "    </tr>\n",
       "  </thead>\n",
       "  <tbody>\n",
       "    <tr>\n",
       "      <th>0</th>\n",
       "      <td>gaussian</td>\n",
       "      <td>100.0</td>\n",
       "      <td>0.001</td>\n",
       "      <td>0.9238</td>\n",
       "      <td>0.9</td>\n",
       "      <td>23</td>\n",
       "      <td>1.1468</td>\n",
       "      <td>-13365.4401</td>\n",
       "    </tr>\n",
       "  </tbody>\n",
       "</table>\n",
       "</div>"
      ],
      "text/plain": [
       "     KERNEL      C  gamma  TRAIN ACCURACY  TEST ACCURACY  \\\n",
       "0  gaussian  100.0  0.001          0.9238            0.9   \n",
       "\n",
       "   NUMBER OF ITERATIONS  CPU TIME (s)  DUAL OBJ VALUE  \n",
       "0                    23        1.1468     -13365.4401  "
      ]
     },
     "metadata": {},
     "output_type": "display_data"
    }
   ],
   "source": [
    "# STEP 1: IMPORT FUNZIONI DAL FILE .py E RELOAD\n",
    "import importlib\n",
    "import Functions_22_Avino_Lombardi\n",
    "importlib.reload(Functions_22_Avino_Lombardi)\n",
    "from Functions_22_Avino_Lombardi import *\n",
    "\n",
    "# STEP 2: CARICAMENTO DATI E PREPROCESSING\n",
    "import pandas as pd\n",
    "import numpy as np\n",
    "from sklearn.model_selection import train_test_split\n",
    "from sklearn.preprocessing import StandardScaler\n",
    "\n",
    "# Caricamento dataset\n",
    "df = pd.read_csv(\"../dataset/GENDER_CLASSIFICATION.csv\")\n",
    "\n",
    "# Separazione features e labels\n",
    "X = df.iloc[:, :-1].values\n",
    "y = df.iloc[:, -1].values\n",
    "y = np.where(y == 0, -1, 1)  # Etichette in {-1, +1}\n",
    "\n",
    "# Train-test split\n",
    "X_train, X_test, y_train, y_test = train_test_split(\n",
    "    X, y, test_size=0.2, shuffle=True, random_state=123\n",
    ")\n",
    "\n",
    "# Normalizzazione\n",
    "scaler = StandardScaler()\n",
    "X_train = scaler.fit_transform(X_train)\n",
    "X_test = scaler.transform(X_test)\n",
    "\n",
    "# STEP 3: DEFINIZIONE DELLA GRIGLIA IPERPARAMETRI PER RBF (gamma = 1 / (2 * sigma^2))\n",
    "grid = {\n",
    "    \"C\": np.logspace(-5, 3, 9),         # es. da 1e-5 a 1e3\n",
    "    \"gamma\": np.logspace(-8, 4, 13)     # es. da 1e-8 a 1e4\n",
    "}\n",
    "\n",
    "# STEP 4: CROSS-VALIDATION PER SELEZIONARE I MIGLIORI IPERPARAMETRI\n",
    "params_comb, val_acc = crossval_svm(\n",
    "    X=X_train,\n",
    "    y=y_train,\n",
    "    k=5,\n",
    "    grid=grid,\n",
    "    kernel_func=gaussian_kernel,\n",
    "    kernel_param_name=\"gamma\",\n",
    "    use_seed=True\n",
    ")\n",
    "\n",
    "# Selezione dei migliori parametri\n",
    "best_idx = int(np.argmax(val_acc))\n",
    "best_params = params_comb[best_idx]\n",
    "best_C = best_params[\"C\"]\n",
    "best_gamma = best_params[\"gamma\"]\n",
    "\n",
    "print(f\"Best hyperparameters found: C = {best_C}, gamma = {best_gamma}\")\n",
    "\n",
    "# STEP 5: TRAINING COMPLETO CON I MIGLIORI PARAMETRI\n",
    "K_final = compute_kernel_matrix(X_train, y_train, gaussian_kernel, gamma=best_gamma)\n",
    "lambdas, num_iter, cpu_time, _ = solve_dual_svm(K_final, y_train, best_C)\n",
    "dual_obj_value = compute_dual_objective(lambdas, K_final)\n",
    "b_final = compute_b(X_train, y_train, lambdas, gaussian_kernel, C=best_C, gamma=best_gamma)\n",
    "\n",
    "# STEP 6: PREDIZIONE SU TRAIN E TEST SET\n",
    "y_train_pred = predict(X_train, y_train, lambdas, b_final, X_train, gaussian_kernel, gamma=best_gamma)\n",
    "y_test_pred = predict(X_train, y_train, lambdas, b_final, X_test, gaussian_kernel, gamma=best_gamma)\n",
    "\n",
    "train_acc = compute_accuracy(y_train, y_train_pred)\n",
    "test_acc = compute_accuracy(y_test, y_test_pred)\n",
    "\n",
    "# STEP 7: REPORT FINALE\n",
    "summary = pd.DataFrame([{\n",
    "    \"KERNEL\": \"gaussian\",\n",
    "    \"C\": best_C,\n",
    "    \"gamma\": best_gamma,\n",
    "    \"TRAIN ACCURACY\": round(train_acc, 4),\n",
    "    \"TEST ACCURACY\": round(test_acc, 4),\n",
    "    \"NUMBER OF ITERATIONS\": num_iter,\n",
    "    \"CPU TIME (s)\": round(cpu_time, 4),\n",
    "    \"DUAL OBJ VALUE\": round(dual_obj_value, 4)\n",
    "}])\n",
    "\n",
    "print(\"\\n FINAL REPORT - QUESTION 2\")\n",
    "display(summary)\n"
   ]
  }
 ],
 "metadata": {
  "kernelspec": {
   "display_name": "Python 3",
   "language": "python",
   "name": "python3"
  },
  "language_info": {
   "codemirror_mode": {
    "name": "ipython",
    "version": 3
   },
   "file_extension": ".py",
   "mimetype": "text/x-python",
   "name": "python",
   "nbconvert_exporter": "python",
   "pygments_lexer": "ipython3",
   "version": "3.11.5"
  }
 },
 "nbformat": 4,
 "nbformat_minor": 5
}
