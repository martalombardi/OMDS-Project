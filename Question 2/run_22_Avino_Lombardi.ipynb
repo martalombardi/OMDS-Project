{
 "cells": [
  {
   "cell_type": "markdown",
   "id": "c01ca929",
   "metadata": {},
   "source": [
    "# Part 2: SVM - Question 2"
   ]
  },
  {
   "cell_type": "markdown",
   "id": "e6903faa",
   "metadata": {},
   "source": [
    "This notebook is dedicated to training and evaluating a nonlinear Support Vector Machine (SVM) model for a binary gender classification task. Our goal is to explore how different kernel choices and hyperparameter settings influence the performance of the classifier, while solving the dual optimization problem associated with SVMs.\n",
    "\n",
    "To achieve this, we will experiment with the **Polynomial** kernel and the **Gaussian (RBF)**. The optimization of the dual SVM objective will be performed using the convex solver provided by **CVXOPT**.\n",
    "\n",
    "To ensure robust and fair model selection, we will apply **5-fold cross-validation** to tune the relevant hyperparameters, namely the regularization parameter $C$ and either the kernel exponent $p$ (for the polynomial kernel) or the bandwidth parameter $\\gamma$ (for the Gaussian kernel).\n",
    "\n",
    "Finally, we will evaluate the model by reporting the classification accuracy on both the training and test sets, analyzing the confusion matrix for a more detailed error breakdown and recording optimization-related statistics such as the time required for training, the number of iterations performed by the solver and the final value of the dual objective function.\n"
   ]
  },
  {
   "cell_type": "markdown",
   "id": "ec9da40b",
   "metadata": {},
   "source": [
    "##  Importing required libraries and custom modules"
   ]
  },
  {
   "cell_type": "code",
   "execution_count": 1,
   "id": "6090d460",
   "metadata": {},
   "outputs": [],
   "source": [
    "import importlib\n",
    "import Functions_22_Avino_Lombardi\n",
    "importlib.reload(Functions_22_Avino_Lombardi)\n",
    "from Functions_22_Avino_Lombardi import *\n",
    "import numpy as np\n",
    "import pandas as pd\n",
    "import matplotlib.pyplot as plt\n",
    "from sklearn.model_selection import train_test_split\n",
    "from sklearn.preprocessing import StandardScaler\n",
    "import seaborn as sns"
   ]
  },
  {
   "cell_type": "markdown",
   "id": "6ae2e898",
   "metadata": {},
   "source": [
    "## Data Loading and Preparation\n",
    "\n",
    "In this section, we import the dataset and prepare it for model training.\n",
    "\n",
    "The dataset is first read into a pandas DataFrame and inspected to verify its structure and the class distribution. The feature matrix `X` is extracted as all columns **except the last one**, while the label vector `y` is taken from the **last column**.\n",
    "\n",
    "Since the original dataset encodes the target class as `0` for one group and `1` for the other, we explicitly recode the labels to match the SVM convention: **−1 for class 0**, and **+1 for class 1**. This transformation is done using `np.where`, which replaces every 0 with −1 and keeps 1 unchanged.\n",
    "\n",
    "Next, the dataset is split into a training set and a test set, using an **80/20 stratified split**. \n",
    "\n",
    "Before training, we standardize the input features using `StandardScaler`. This transformation ensures that each feature has zero mean and unit variance, which is essential for SVMs. Without this normalization, features with larger numeric ranges could dominate the computation of the decision boundary, leading to suboptimal performance."
   ]
  },
  {
   "cell_type": "markdown",
   "id": "938b0f59",
   "metadata": {},
   "source": [
    "### Loading the dataset"
   ]
  },
  {
   "cell_type": "code",
   "execution_count": 2,
   "id": "7f0c7d0d",
   "metadata": {},
   "outputs": [
    {
     "data": {
      "application/vnd.microsoft.datawrangler.viewer.v0+json": {
       "columns": [
        {
         "name": "index",
         "rawType": "int64",
         "type": "integer"
        },
        {
         "name": "feat_1",
         "rawType": "float64",
         "type": "float"
        },
        {
         "name": "feat_2",
         "rawType": "float64",
         "type": "float"
        },
        {
         "name": "feat_3",
         "rawType": "float64",
         "type": "float"
        },
        {
         "name": "feat_4",
         "rawType": "float64",
         "type": "float"
        },
        {
         "name": "feat_5",
         "rawType": "float64",
         "type": "float"
        },
        {
         "name": "feat_6",
         "rawType": "float64",
         "type": "float"
        },
        {
         "name": "feat_7",
         "rawType": "float64",
         "type": "float"
        },
        {
         "name": "feat_8",
         "rawType": "float64",
         "type": "float"
        },
        {
         "name": "feat_9",
         "rawType": "float64",
         "type": "float"
        },
        {
         "name": "feat_10",
         "rawType": "float64",
         "type": "float"
        },
        {
         "name": "feat_11",
         "rawType": "float64",
         "type": "float"
        },
        {
         "name": "feat_12",
         "rawType": "float64",
         "type": "float"
        },
        {
         "name": "feat_13",
         "rawType": "float64",
         "type": "float"
        },
        {
         "name": "feat_14",
         "rawType": "float64",
         "type": "float"
        },
        {
         "name": "feat_15",
         "rawType": "float64",
         "type": "float"
        },
        {
         "name": "feat_16",
         "rawType": "float64",
         "type": "float"
        },
        {
         "name": "feat_17",
         "rawType": "float64",
         "type": "float"
        },
        {
         "name": "feat_18",
         "rawType": "float64",
         "type": "float"
        },
        {
         "name": "feat_19",
         "rawType": "float64",
         "type": "float"
        },
        {
         "name": "feat_20",
         "rawType": "float64",
         "type": "float"
        },
        {
         "name": "feat_21",
         "rawType": "float64",
         "type": "float"
        },
        {
         "name": "feat_22",
         "rawType": "float64",
         "type": "float"
        },
        {
         "name": "feat_23",
         "rawType": "float64",
         "type": "float"
        },
        {
         "name": "feat_24",
         "rawType": "float64",
         "type": "float"
        },
        {
         "name": "feat_25",
         "rawType": "float64",
         "type": "float"
        },
        {
         "name": "feat_26",
         "rawType": "float64",
         "type": "float"
        },
        {
         "name": "feat_27",
         "rawType": "float64",
         "type": "float"
        },
        {
         "name": "feat_28",
         "rawType": "float64",
         "type": "float"
        },
        {
         "name": "feat_29",
         "rawType": "float64",
         "type": "float"
        },
        {
         "name": "feat_30",
         "rawType": "float64",
         "type": "float"
        },
        {
         "name": "feat_31",
         "rawType": "float64",
         "type": "float"
        },
        {
         "name": "feat_32",
         "rawType": "float64",
         "type": "float"
        },
        {
         "name": "gt",
         "rawType": "int64",
         "type": "integer"
        }
       ],
       "ref": "699604ff-5a20-45fc-b47f-d10095b1f3e8",
       "rows": [
        [
         "0",
         "-0.9008461",
         "0.10258658",
         "-0.39781374",
         "0.11279599",
         "2.5880964",
         "-0.19275448",
         "-0.96831065",
         "-0.49088633",
         "-0.87209916",
         "-0.28841105",
         "2.7261353",
         "-0.7485535",
         "-0.09161124",
         "4.610056",
         "0.16425923",
         "-0.66449183",
         "-0.7359673",
         "3.0510771",
         "6.1226172",
         "3.551898",
         "-0.19404888",
         "0.20224804",
         "5.745596",
         "2.5414314",
         "1.7391025",
         "0.16606608",
         "4.584869",
         "-0.10703139",
         "-0.9139903",
         "-0.6864164",
         "-0.36808515",
         "-0.8705449",
         "0"
        ],
        [
         "1",
         "-0.8388681",
         "0.039975893",
         "-0.38710093",
         "0.05541332",
         "2.0668736",
         "-0.22694771",
         "-0.94741607",
         "-0.47281682",
         "-0.8553875",
         "-0.20710132",
         "2.0372732",
         "-0.72442794",
         "-0.043088734",
         "3.4882915",
         "0.13539955",
         "-0.6092611",
         "-0.7220218",
         "2.2059667",
         "4.310314",
         "2.4581199",
         "-0.08641675",
         "0.16430426",
         "4.2026157",
         "1.9917215",
         "1.2597446",
         "0.06505832",
         "3.0197904",
         "-0.110632956",
         "-0.89002264",
         "-0.61162513",
         "-0.2982355",
         "-0.8552077",
         "0"
        ],
        [
         "2",
         "-0.8149612",
         "-0.010184246",
         "-0.39714676",
         "0.09271346",
         "1.8974539",
         "-0.26938653",
         "-0.9452851",
         "-0.44957858",
         "-0.84970456",
         "-0.15117864",
         "1.7396034",
         "-0.71696335",
         "-0.058818486",
         "3.2678397",
         "0.15380326",
         "-0.5746578",
         "-0.7162282",
         "1.9434066",
         "3.7257223",
         "2.0747542",
         "-0.03314754",
         "0.21129245",
         "3.803454",
         "1.8229781",
         "1.105511",
         "0.065352954",
         "2.5006807",
         "-0.05273002",
         "-0.8856906",
         "-0.58334637",
         "-0.21813992",
         "-0.85645586",
         "0"
        ],
        [
         "3",
         "-0.110469654",
         "0.027849447",
         "-0.044310153",
         "-0.0053431336",
         "0.17783104",
         "-0.23209181",
         "-0.56270015",
         "-0.40071288",
         "-0.552356",
         "0.037348926",
         "-0.3574786",
         "-0.47226247",
         "0.0023732334",
         "-0.5240741",
         "-0.14381249",
         "-0.40345597",
         "-0.4743773",
         "-0.58267623",
         "-0.7871136",
         "-0.6339403",
         "0.10306667",
         "-0.09213467",
         "-0.7108262",
         "-0.09836721",
         "-0.37031776",
         "-0.12300763",
         "-0.8613137",
         "0.10683972",
         "-0.48366946",
         "-0.2241641",
         "0.14732084",
         "-0.6150513",
         "0"
        ],
        [
         "4",
         "-0.6263135",
         "-0.09198517",
         "-0.3737561",
         "-0.005083204",
         "1.172486",
         "-0.31486827",
         "-0.88504595",
         "-0.41258654",
         "-0.81872874",
         "-0.012022213",
         "0.76037645",
         "-0.6741968",
         "0.02291584",
         "1.6234999",
         "0.107085615",
         "-0.47343695",
         "-0.6917968",
         "0.72231686",
         "1.1239798",
         "0.5203676",
         "0.13998316",
         "0.15416431",
         "1.5577246",
         "1.0303481",
         "0.421886",
         "-0.06802894",
         "0.25898355",
         "-0.05715753",
         "-0.8340786",
         "-0.4410664",
         "-0.09987423",
         "-0.82953906",
         "0"
        ]
       ],
       "shape": {
        "columns": 33,
        "rows": 5
       }
      },
      "text/html": [
       "<div>\n",
       "<style scoped>\n",
       "    .dataframe tbody tr th:only-of-type {\n",
       "        vertical-align: middle;\n",
       "    }\n",
       "\n",
       "    .dataframe tbody tr th {\n",
       "        vertical-align: top;\n",
       "    }\n",
       "\n",
       "    .dataframe thead th {\n",
       "        text-align: right;\n",
       "    }\n",
       "</style>\n",
       "<table border=\"1\" class=\"dataframe\">\n",
       "  <thead>\n",
       "    <tr style=\"text-align: right;\">\n",
       "      <th></th>\n",
       "      <th>feat_1</th>\n",
       "      <th>feat_2</th>\n",
       "      <th>feat_3</th>\n",
       "      <th>feat_4</th>\n",
       "      <th>feat_5</th>\n",
       "      <th>feat_6</th>\n",
       "      <th>feat_7</th>\n",
       "      <th>feat_8</th>\n",
       "      <th>feat_9</th>\n",
       "      <th>feat_10</th>\n",
       "      <th>...</th>\n",
       "      <th>feat_24</th>\n",
       "      <th>feat_25</th>\n",
       "      <th>feat_26</th>\n",
       "      <th>feat_27</th>\n",
       "      <th>feat_28</th>\n",
       "      <th>feat_29</th>\n",
       "      <th>feat_30</th>\n",
       "      <th>feat_31</th>\n",
       "      <th>feat_32</th>\n",
       "      <th>gt</th>\n",
       "    </tr>\n",
       "  </thead>\n",
       "  <tbody>\n",
       "    <tr>\n",
       "      <th>0</th>\n",
       "      <td>-0.900846</td>\n",
       "      <td>0.102587</td>\n",
       "      <td>-0.397814</td>\n",
       "      <td>0.112796</td>\n",
       "      <td>2.588096</td>\n",
       "      <td>-0.192754</td>\n",
       "      <td>-0.968311</td>\n",
       "      <td>-0.490886</td>\n",
       "      <td>-0.872099</td>\n",
       "      <td>-0.288411</td>\n",
       "      <td>...</td>\n",
       "      <td>2.541431</td>\n",
       "      <td>1.739102</td>\n",
       "      <td>0.166066</td>\n",
       "      <td>4.584869</td>\n",
       "      <td>-0.107031</td>\n",
       "      <td>-0.913990</td>\n",
       "      <td>-0.686416</td>\n",
       "      <td>-0.368085</td>\n",
       "      <td>-0.870545</td>\n",
       "      <td>0</td>\n",
       "    </tr>\n",
       "    <tr>\n",
       "      <th>1</th>\n",
       "      <td>-0.838868</td>\n",
       "      <td>0.039976</td>\n",
       "      <td>-0.387101</td>\n",
       "      <td>0.055413</td>\n",
       "      <td>2.066874</td>\n",
       "      <td>-0.226948</td>\n",
       "      <td>-0.947416</td>\n",
       "      <td>-0.472817</td>\n",
       "      <td>-0.855387</td>\n",
       "      <td>-0.207101</td>\n",
       "      <td>...</td>\n",
       "      <td>1.991721</td>\n",
       "      <td>1.259745</td>\n",
       "      <td>0.065058</td>\n",
       "      <td>3.019790</td>\n",
       "      <td>-0.110633</td>\n",
       "      <td>-0.890023</td>\n",
       "      <td>-0.611625</td>\n",
       "      <td>-0.298235</td>\n",
       "      <td>-0.855208</td>\n",
       "      <td>0</td>\n",
       "    </tr>\n",
       "    <tr>\n",
       "      <th>2</th>\n",
       "      <td>-0.814961</td>\n",
       "      <td>-0.010184</td>\n",
       "      <td>-0.397147</td>\n",
       "      <td>0.092713</td>\n",
       "      <td>1.897454</td>\n",
       "      <td>-0.269387</td>\n",
       "      <td>-0.945285</td>\n",
       "      <td>-0.449579</td>\n",
       "      <td>-0.849705</td>\n",
       "      <td>-0.151179</td>\n",
       "      <td>...</td>\n",
       "      <td>1.822978</td>\n",
       "      <td>1.105511</td>\n",
       "      <td>0.065353</td>\n",
       "      <td>2.500681</td>\n",
       "      <td>-0.052730</td>\n",
       "      <td>-0.885691</td>\n",
       "      <td>-0.583346</td>\n",
       "      <td>-0.218140</td>\n",
       "      <td>-0.856456</td>\n",
       "      <td>0</td>\n",
       "    </tr>\n",
       "    <tr>\n",
       "      <th>3</th>\n",
       "      <td>-0.110470</td>\n",
       "      <td>0.027849</td>\n",
       "      <td>-0.044310</td>\n",
       "      <td>-0.005343</td>\n",
       "      <td>0.177831</td>\n",
       "      <td>-0.232092</td>\n",
       "      <td>-0.562700</td>\n",
       "      <td>-0.400713</td>\n",
       "      <td>-0.552356</td>\n",
       "      <td>0.037349</td>\n",
       "      <td>...</td>\n",
       "      <td>-0.098367</td>\n",
       "      <td>-0.370318</td>\n",
       "      <td>-0.123008</td>\n",
       "      <td>-0.861314</td>\n",
       "      <td>0.106840</td>\n",
       "      <td>-0.483669</td>\n",
       "      <td>-0.224164</td>\n",
       "      <td>0.147321</td>\n",
       "      <td>-0.615051</td>\n",
       "      <td>0</td>\n",
       "    </tr>\n",
       "    <tr>\n",
       "      <th>4</th>\n",
       "      <td>-0.626313</td>\n",
       "      <td>-0.091985</td>\n",
       "      <td>-0.373756</td>\n",
       "      <td>-0.005083</td>\n",
       "      <td>1.172486</td>\n",
       "      <td>-0.314868</td>\n",
       "      <td>-0.885046</td>\n",
       "      <td>-0.412587</td>\n",
       "      <td>-0.818729</td>\n",
       "      <td>-0.012022</td>\n",
       "      <td>...</td>\n",
       "      <td>1.030348</td>\n",
       "      <td>0.421886</td>\n",
       "      <td>-0.068029</td>\n",
       "      <td>0.258984</td>\n",
       "      <td>-0.057158</td>\n",
       "      <td>-0.834079</td>\n",
       "      <td>-0.441066</td>\n",
       "      <td>-0.099874</td>\n",
       "      <td>-0.829539</td>\n",
       "      <td>0</td>\n",
       "    </tr>\n",
       "  </tbody>\n",
       "</table>\n",
       "<p>5 rows × 33 columns</p>\n",
       "</div>"
      ],
      "text/plain": [
       "     feat_1    feat_2    feat_3    feat_4    feat_5    feat_6    feat_7  \\\n",
       "0 -0.900846  0.102587 -0.397814  0.112796  2.588096 -0.192754 -0.968311   \n",
       "1 -0.838868  0.039976 -0.387101  0.055413  2.066874 -0.226948 -0.947416   \n",
       "2 -0.814961 -0.010184 -0.397147  0.092713  1.897454 -0.269387 -0.945285   \n",
       "3 -0.110470  0.027849 -0.044310 -0.005343  0.177831 -0.232092 -0.562700   \n",
       "4 -0.626313 -0.091985 -0.373756 -0.005083  1.172486 -0.314868 -0.885046   \n",
       "\n",
       "     feat_8    feat_9   feat_10  ...   feat_24   feat_25   feat_26   feat_27  \\\n",
       "0 -0.490886 -0.872099 -0.288411  ...  2.541431  1.739102  0.166066  4.584869   \n",
       "1 -0.472817 -0.855387 -0.207101  ...  1.991721  1.259745  0.065058  3.019790   \n",
       "2 -0.449579 -0.849705 -0.151179  ...  1.822978  1.105511  0.065353  2.500681   \n",
       "3 -0.400713 -0.552356  0.037349  ... -0.098367 -0.370318 -0.123008 -0.861314   \n",
       "4 -0.412587 -0.818729 -0.012022  ...  1.030348  0.421886 -0.068029  0.258984   \n",
       "\n",
       "    feat_28   feat_29   feat_30   feat_31   feat_32  gt  \n",
       "0 -0.107031 -0.913990 -0.686416 -0.368085 -0.870545   0  \n",
       "1 -0.110633 -0.890023 -0.611625 -0.298235 -0.855208   0  \n",
       "2 -0.052730 -0.885691 -0.583346 -0.218140 -0.856456   0  \n",
       "3  0.106840 -0.483669 -0.224164  0.147321 -0.615051   0  \n",
       "4 -0.057158 -0.834079 -0.441066 -0.099874 -0.829539   0  \n",
       "\n",
       "[5 rows x 33 columns]"
      ]
     },
     "execution_count": 2,
     "metadata": {},
     "output_type": "execute_result"
    }
   ],
   "source": [
    "data = pd.read_csv(\"../dataset/GENDER_CLASSIFICATION.csv\")\n",
    "data.head()"
   ]
  },
  {
   "cell_type": "markdown",
   "id": "00e6e7d1",
   "metadata": {},
   "source": [
    "### Inspecting the dataset"
   ]
  },
  {
   "cell_type": "code",
   "execution_count": 3,
   "id": "374a7623",
   "metadata": {},
   "outputs": [
    {
     "name": "stdout",
     "output_type": "stream",
     "text": [
      "Shape: (1000, 33)\n",
      "\n",
      "Columns: ['feat_1', 'feat_2', 'feat_3', 'feat_4', 'feat_5', 'feat_6', 'feat_7', 'feat_8', 'feat_9', 'feat_10', 'feat_11', 'feat_12', 'feat_13', 'feat_14', 'feat_15', 'feat_16', 'feat_17', 'feat_18', 'feat_19', 'feat_20', 'feat_21', 'feat_22', 'feat_23', 'feat_24', 'feat_25', 'feat_26', 'feat_27', 'feat_28', 'feat_29', 'feat_30', 'feat_31', 'feat_32', 'gt']\n",
      "\n",
      "Class distribution:\n",
      " gt\n",
      "0    500\n",
      "1    500\n",
      "Name: count, dtype: int64\n"
     ]
    }
   ],
   "source": [
    "# Check basic information\n",
    "print(\"Shape:\", data.shape)\n",
    "print(\"\\nColumns:\", data.columns.tolist())\n",
    "print(\"\\nClass distribution:\\n\", data[\"gt\"].value_counts())"
   ]
  },
  {
   "cell_type": "markdown",
   "id": "c801717a",
   "metadata": {},
   "source": [
    "### Extracting Features and Recoding Labels"
   ]
  },
  {
   "cell_type": "code",
   "execution_count": 4,
   "id": "00007b2d",
   "metadata": {},
   "outputs": [
    {
     "name": "stdout",
     "output_type": "stream",
     "text": [
      "Unique labels after conversion: [-1  1]\n"
     ]
    }
   ],
   "source": [
    "X = data.iloc[:, :-1].values\n",
    "y = np.where(data.iloc[:, -1].values == 0, -1, 1)\n",
    "print(\"Unique labels after conversion:\", np.unique(y))"
   ]
  },
  {
   "cell_type": "markdown",
   "id": "70bbd01d",
   "metadata": {},
   "source": [
    "### Splitting the dataset"
   ]
  },
  {
   "cell_type": "code",
   "execution_count": 5,
   "id": "5bd07f4b",
   "metadata": {},
   "outputs": [],
   "source": [
    "X_train, X_test, y_train, y_test = train_test_split(X, y, test_size=0.2, shuffle=True, random_state=1234)"
   ]
  },
  {
   "cell_type": "markdown",
   "id": "0c6e693c",
   "metadata": {},
   "source": [
    "### Standardizing the features"
   ]
  },
  {
   "cell_type": "code",
   "execution_count": 6,
   "id": "0613ef97",
   "metadata": {},
   "outputs": [],
   "source": [
    "scaler = StandardScaler()\n",
    "X_train = scaler.fit_transform(X_train)\n",
    "X_test = scaler.transform(X_test)"
   ]
  },
  {
   "cell_type": "markdown",
   "id": "11a657e1",
   "metadata": {},
   "source": [
    "## Training and Evaluation: Polynomial Kernel\n",
    "\n",
    "We now proceed to train and evaluate the model using the **Polynomial kernel**.\n",
    "\n",
    "The polynomial kernel introduces nonlinearity by computing the similarity between input vectors using polynomial combinations of the original features. It is defined as:\n",
    "\n",
    "$$\n",
    "K(x, y) = (x^\\top y + 1)^p\n",
    "$$\n",
    "\n",
    "This formulation allows the SVM to learn curved decision boundaries in the original feature space, depending on the degree of the polynomial $p$.\n",
    "\n",
    "The hyperparameters involved are:\n",
    "- $C$, the regularization parameter, which balances the trade-off between margin maximization and classification error minimization;\n",
    "- $p$. the degree of the polynomial, which controls the flexibility of the decision boundary.\n",
    "\n",
    "In this experiment, we will test values of $C$ ranging from $1$ to $10$ and values of $p$ $\\in \\{2, 3, 4\\}$.\n"
   ]
  },
  {
   "cell_type": "code",
   "execution_count": 7,
   "id": "d1f90304",
   "metadata": {},
   "outputs": [],
   "source": [
    "# Set kernel and grid\n",
    "polynomial_kernel_func = polynomial_kernel\n",
    "polynomial_param_name = \"p\"\n",
    "polynomial_grid = {\"C\": list(range(1, 11)), \"p\": [2, 3, 4]}"
   ]
  },
  {
   "cell_type": "markdown",
   "id": "2dafc997",
   "metadata": {},
   "source": [
    "### Performing Cross-Validation\n",
    "To select the best combination of hyperparameters, we perform 5-fold cross-validation. \n",
    "\n",
    "This procedure splits the training set into five folds, trains on four and validates on the fifth, rotating folds to obtain an average validation accuracy for each parameter combination."
   ]
  },
  {
   "cell_type": "code",
   "execution_count": 8,
   "id": "4365b631",
   "metadata": {},
   "outputs": [],
   "source": [
    "# Perform cross-validation\n",
    "polynomial_params_comb, polynomial_val_acc = crossval_svm(\n",
    "    X=X_train,\n",
    "    y=y_train,\n",
    "    k=5,\n",
    "    grid=polynomial_grid,\n",
    "    kernel_func=polynomial_kernel_func,\n",
    "    kernel_param_name=polynomial_param_name,\n",
    "    use_seed=True\n",
    ")\n",
    "\n",
    "# Extract best parameters\n",
    "polynomial_best_idx = int(np.argmax(polynomial_val_acc))\n",
    "polynomial_best_params = polynomial_params_comb[polynomial_best_idx]\n",
    "polynomial_best_C = polynomial_best_params[\"C\"]\n",
    "polynomial_best_kernel_param = polynomial_best_params[polynomial_param_name]"
   ]
  },
  {
   "cell_type": "markdown",
   "id": "307a5dbc",
   "metadata": {},
   "source": [
    "### Final Training, Evaluation and Reporting\n",
    "With the best hyperparameters found through cross-validation, we retrain the SVM on the entire training set and evaluate its performance on both training and test sets.\n",
    "\n",
    "We also report:\n",
    "- Optimization time and number of iterations;\n",
    "- Final value of the dual objective;\n",
    "- Confusion matrix on the test set."
   ]
  },
  {
   "cell_type": "code",
   "execution_count": 9,
   "id": "546ba15e",
   "metadata": {},
   "outputs": [
    {
     "name": "stdout",
     "output_type": "stream",
     "text": [
      "\n",
      "FINAL REPORT POLYNOMIAL KERNEL\n"
     ]
    },
    {
     "data": {
      "application/vnd.microsoft.datawrangler.viewer.v0+json": {
       "columns": [
        {
         "name": "index",
         "rawType": "int64",
         "type": "integer"
        },
        {
         "name": "KERNEL",
         "rawType": "object",
         "type": "string"
        },
        {
         "name": "C",
         "rawType": "int64",
         "type": "integer"
        },
        {
         "name": "p",
         "rawType": "int64",
         "type": "integer"
        },
        {
         "name": "TRAIN ACCURACY",
         "rawType": "float64",
         "type": "float"
        },
        {
         "name": "TEST ACCURACY",
         "rawType": "float64",
         "type": "float"
        },
        {
         "name": "NUMBER OF ITERATIONS",
         "rawType": "int64",
         "type": "integer"
        },
        {
         "name": "CPU TIME (s)",
         "rawType": "float64",
         "type": "float"
        },
        {
         "name": "DUAL OBJ VALUE",
         "rawType": "float64",
         "type": "float"
        }
       ],
       "ref": "96b58ed9-2a17-4ad1-aae9-52009e3d460c",
       "rows": [
        [
         "0",
         "polynomial_kernel",
         "1",
         "2",
         "0.92",
         "0.905",
         "15",
         "1.6032",
         "-126.227"
        ]
       ],
       "shape": {
        "columns": 8,
        "rows": 1
       }
      },
      "text/html": [
       "<div>\n",
       "<style scoped>\n",
       "    .dataframe tbody tr th:only-of-type {\n",
       "        vertical-align: middle;\n",
       "    }\n",
       "\n",
       "    .dataframe tbody tr th {\n",
       "        vertical-align: top;\n",
       "    }\n",
       "\n",
       "    .dataframe thead th {\n",
       "        text-align: right;\n",
       "    }\n",
       "</style>\n",
       "<table border=\"1\" class=\"dataframe\">\n",
       "  <thead>\n",
       "    <tr style=\"text-align: right;\">\n",
       "      <th></th>\n",
       "      <th>KERNEL</th>\n",
       "      <th>C</th>\n",
       "      <th>p</th>\n",
       "      <th>TRAIN ACCURACY</th>\n",
       "      <th>TEST ACCURACY</th>\n",
       "      <th>NUMBER OF ITERATIONS</th>\n",
       "      <th>CPU TIME (s)</th>\n",
       "      <th>DUAL OBJ VALUE</th>\n",
       "    </tr>\n",
       "  </thead>\n",
       "  <tbody>\n",
       "    <tr>\n",
       "      <th>0</th>\n",
       "      <td>polynomial_kernel</td>\n",
       "      <td>1</td>\n",
       "      <td>2</td>\n",
       "      <td>0.92</td>\n",
       "      <td>0.905</td>\n",
       "      <td>15</td>\n",
       "      <td>1.6032</td>\n",
       "      <td>-126.227</td>\n",
       "    </tr>\n",
       "  </tbody>\n",
       "</table>\n",
       "</div>"
      ],
      "text/plain": [
       "              KERNEL  C  p  TRAIN ACCURACY  TEST ACCURACY  \\\n",
       "0  polynomial_kernel  1  2            0.92          0.905   \n",
       "\n",
       "   NUMBER OF ITERATIONS  CPU TIME (s)  DUAL OBJ VALUE  \n",
       "0                    15        1.6032        -126.227  "
      ]
     },
     "metadata": {},
     "output_type": "display_data"
    },
    {
     "data": {
      "image/png": "[encoded data removed]",
      "text/plain": [
       "<Figure size 600x400 with 1 Axes>"
      ]
     },
     "metadata": {},
     "output_type": "display_data"
    }
   ],
   "source": [
    "# Train final model\n",
    "polynomial_model = SVM(C=polynomial_best_C, kernel_func=polynomial_kernel_func, kernel_params={polynomial_param_name: polynomial_best_kernel_param})\n",
    "polynomial_model.fit(X_train, y_train)\n",
    "\n",
    "# Make predictions\n",
    "polynomial_y_train_pred = polynomial_model.predict(X_train)\n",
    "polynomial_y_test_pred = polynomial_model.predict(X_test)\n",
    "\n",
    "# Compute accuracies\n",
    "polynomial_train_acc = compute_accuracy(y_train, polynomial_y_train_pred)\n",
    "polynomial_test_acc = compute_accuracy(y_test, polynomial_y_test_pred)\n",
    "\n",
    "# Build report\n",
    "polynomial_df_report = pd.DataFrame([{\n",
    "    \"KERNEL\": polynomial_kernel_func.__name__,\n",
    "    \"C\": polynomial_best_C,\n",
    "    polynomial_param_name: polynomial_best_kernel_param,\n",
    "    \"TRAIN ACCURACY\": round(polynomial_train_acc, 4),\n",
    "    \"TEST ACCURACY\": round(polynomial_test_acc, 4),\n",
    "    \"NUMBER OF ITERATIONS\": polynomial_model.last_num_iter,\n",
    "    \"CPU TIME (s)\": round(polynomial_model.last_cpu_time, 4),\n",
    "    \"DUAL OBJ VALUE\": round(polynomial_model.dual_objective(), 4)\n",
    "}])\n",
    "\n",
    "print(\"\\nFINAL REPORT POLYNOMIAL KERNEL\")\n",
    "display(polynomial_df_report)\n",
    "\n",
    "# Confusion matrix\n",
    "polynomial_conf_matrix = compute_confusion_matrix(y_test, polynomial_y_test_pred)\n",
    "plt.figure(figsize=(6, 4))\n",
    "sns.heatmap(polynomial_conf_matrix, annot=True, fmt=\"d\", cmap=\"Blues\", cbar=False,\n",
    "            linewidths=1, linecolor='gray')\n",
    "plt.title(\"Confusion Matrix - Polynomial Kernel (Test Set)\")\n",
    "plt.ylabel(\"True label\")\n",
    "plt.xlabel(\"Predicted label\")\n",
    "plt.show()"
   ]
  },
  {
   "cell_type": "markdown",
   "id": "57ab3496",
   "metadata": {},
   "source": [
    "## Training and Evaluation: Gaussian (RBF) Kernel\n",
    "\n",
    "We now turn to the Gaussian kernel, also known as the Radial Basis Function (RBF) kernel. Just like in the polynomial case, we will perform three steps: defining the hyperparameter grid, running cross-validation and training the final model on the best configuration.\n",
    "\n",
    "The Gaussian kernel introduces nonlinearity by mapping the input features into an infinite-dimensional space, where the decision boundary can become highly flexible. It is defined as:\n",
    "\n",
    "$$\n",
    "K(x, y) = \\exp(-\\gamma \\|x - y\\|^2)\n",
    "$$\n",
    "\n",
    "The hyperparameters involved are:\n",
    "- $C$, the regularization parameter that controls the trade-off between maximizing the margin and minimizing classification errors;\n",
    "- $gamma$, the kernel coefficient that defines how much influence a single training example has. Smaller values result in a broader influence, while larger values lead to tighter, more localized decision boundaries.\n",
    "\n",
    "In this experiment, we will try values of $C$ ranging from $1$ to $10$ and values of $\\gamma$ equal to $0.1$, $0.5$ and $1$."
   ]
  },
  {
   "cell_type": "code",
   "execution_count": 10,
   "id": "2f88f6f6",
   "metadata": {},
   "outputs": [],
   "source": [
    "gaussian_kernel_func = gaussian_kernel\n",
    "gaussian_param_name = \"gamma\"\n",
    "gaussian_grid = {\"C\": list(range(1, 11)), \"gamma\": [0.1, 0.5, 1]}"
   ]
  },
  {
   "cell_type": "markdown",
   "id": "324354b3",
   "metadata": {},
   "source": [
    "### Performing Cross-Validation"
   ]
  },
  {
   "cell_type": "code",
   "execution_count": 11,
   "id": "d162f179",
   "metadata": {},
   "outputs": [],
   "source": [
    "# Perform cross-validation\n",
    "gaussian_params_comb, gaussian_val_acc = crossval_svm(\n",
    "    X=X_train,\n",
    "    y=y_train,\n",
    "    k=5,\n",
    "    grid=gaussian_grid,\n",
    "    kernel_func=gaussian_kernel_func,\n",
    "    kernel_param_name=gaussian_param_name,\n",
    "    use_seed=True\n",
    ")\n",
    "\n",
    "# Extract best parameters\n",
    "gaussian_best_idx = int(np.argmax(gaussian_val_acc))\n",
    "gaussian_best_params = gaussian_params_comb[gaussian_best_idx]\n",
    "gaussian_best_C = gaussian_best_params[\"C\"]\n",
    "gaussian_best_kernel_param = gaussian_best_params[gaussian_param_name]"
   ]
  },
  {
   "cell_type": "markdown",
   "id": "8589bf99",
   "metadata": {},
   "source": [
    "### Final Training, Evaluation and Reporting"
   ]
  },
  {
   "cell_type": "code",
   "execution_count": 12,
   "id": "1677c8bb",
   "metadata": {},
   "outputs": [
    {
     "name": "stdout",
     "output_type": "stream",
     "text": [
      "\n",
      "FINAL REPORT GAUSSIAN KERNEL\n"
     ]
    },
    {
     "data": {
      "application/vnd.microsoft.datawrangler.viewer.v0+json": {
       "columns": [
        {
         "name": "index",
         "rawType": "int64",
         "type": "integer"
        },
        {
         "name": "KERNEL",
         "rawType": "object",
         "type": "string"
        },
        {
         "name": "C",
         "rawType": "int64",
         "type": "integer"
        },
        {
         "name": "gamma",
         "rawType": "float64",
         "type": "float"
        },
        {
         "name": "TRAIN ACCURACY",
         "rawType": "float64",
         "type": "float"
        },
        {
         "name": "TEST ACCURACY",
         "rawType": "float64",
         "type": "float"
        },
        {
         "name": "NUMBER OF ITERATIONS",
         "rawType": "int64",
         "type": "integer"
        },
        {
         "name": "CPU TIME (s)",
         "rawType": "float64",
         "type": "float"
        },
        {
         "name": "DUAL OBJ VALUE",
         "rawType": "float64",
         "type": "float"
        }
       ],
       "ref": "1b4cfcd2-071a-4391-b249-fd8a2de2a80d",
       "rows": [
        [
         "0",
         "gaussian_kernel",
         "1",
         "0.1",
         "0.9212",
         "0.91",
         "14",
         "1.2193",
         "-135.4057"
        ]
       ],
       "shape": {
        "columns": 8,
        "rows": 1
       }
      },
      "text/html": [
       "<div>\n",
       "<style scoped>\n",
       "    .dataframe tbody tr th:only-of-type {\n",
       "        vertical-align: middle;\n",
       "    }\n",
       "\n",
       "    .dataframe tbody tr th {\n",
       "        vertical-align: top;\n",
       "    }\n",
       "\n",
       "    .dataframe thead th {\n",
       "        text-align: right;\n",
       "    }\n",
       "</style>\n",
       "<table border=\"1\" class=\"dataframe\">\n",
       "  <thead>\n",
       "    <tr style=\"text-align: right;\">\n",
       "      <th></th>\n",
       "      <th>KERNEL</th>\n",
       "      <th>C</th>\n",
       "      <th>gamma</th>\n",
       "      <th>TRAIN ACCURACY</th>\n",
       "      <th>TEST ACCURACY</th>\n",
       "      <th>NUMBER OF ITERATIONS</th>\n",
       "      <th>CPU TIME (s)</th>\n",
       "      <th>DUAL OBJ VALUE</th>\n",
       "    </tr>\n",
       "  </thead>\n",
       "  <tbody>\n",
       "    <tr>\n",
       "      <th>0</th>\n",
       "      <td>gaussian_kernel</td>\n",
       "      <td>1</td>\n",
       "      <td>0.1</td>\n",
       "      <td>0.9212</td>\n",
       "      <td>0.91</td>\n",
       "      <td>14</td>\n",
       "      <td>1.2193</td>\n",
       "      <td>-135.4057</td>\n",
       "    </tr>\n",
       "  </tbody>\n",
       "</table>\n",
       "</div>"
      ],
      "text/plain": [
       "            KERNEL  C  gamma  TRAIN ACCURACY  TEST ACCURACY  \\\n",
       "0  gaussian_kernel  1    0.1          0.9212           0.91   \n",
       "\n",
       "   NUMBER OF ITERATIONS  CPU TIME (s)  DUAL OBJ VALUE  \n",
       "0                    14        1.2193       -135.4057  "
      ]
     },
     "metadata": {},
     "output_type": "display_data"
    },
    {
     "data": {
      "image/png": "[encoded data removed]",
      "text/plain": [
       "<Figure size 600x400 with 1 Axes>"
      ]
     },
     "metadata": {},
     "output_type": "display_data"
    }
   ],
   "source": [
    "# Train final model\n",
    "gaussian_model = SVM(C=gaussian_best_C, kernel_func=gaussian_kernel_func, kernel_params={gaussian_param_name: gaussian_best_kernel_param})\n",
    "gaussian_model.fit(X_train, y_train)\n",
    "\n",
    "# Make predictions\n",
    "gaussian_y_train_pred = gaussian_model.predict(X_train)\n",
    "gaussian_y_test_pred = gaussian_model.predict(X_test)\n",
    "\n",
    "# Compute accuracies\n",
    "gaussian_train_acc = compute_accuracy(y_train, gaussian_y_train_pred)\n",
    "gaussian_test_acc = compute_accuracy(y_test, gaussian_y_test_pred)\n",
    "\n",
    "# Build report\n",
    "gaussian_df_report = pd.DataFrame([{\n",
    "    \"KERNEL\": gaussian_kernel_func.__name__,\n",
    "    \"C\": gaussian_best_C,\n",
    "    gaussian_param_name: gaussian_best_kernel_param,\n",
    "    \"TRAIN ACCURACY\": round(gaussian_train_acc, 4),\n",
    "    \"TEST ACCURACY\": round(gaussian_test_acc, 4),\n",
    "    \"NUMBER OF ITERATIONS\": gaussian_model.last_num_iter,\n",
    "    \"CPU TIME (s)\": round(gaussian_model.last_cpu_time, 4),\n",
    "    \"DUAL OBJ VALUE\": round(gaussian_model.dual_objective(), 4)\n",
    "}])\n",
    "\n",
    "print(\"\\nFINAL REPORT GAUSSIAN KERNEL\")\n",
    "display(gaussian_df_report)\n",
    "\n",
    "# Confusion matrix\n",
    "gaussian_conf_matrix = compute_confusion_matrix(y_test, gaussian_y_test_pred)\n",
    "plt.figure(figsize=(6, 4))\n",
    "sns.heatmap(gaussian_conf_matrix, annot=True, fmt=\"d\", cmap=\"Blues\", cbar=False,\n",
    "            linewidths=1, linecolor='gray')\n",
    "plt.title(\"Confusion Matrix - Polynomial Kernel (Test Set)\")\n",
    "plt.ylabel(\"True label\")\n",
    "plt.xlabel(\"Predicted label\")\n",
    "plt.show()"
   ]
  }
 ],
 "metadata": {
  "kernelspec": {
   "display_name": "Python 3",
   "language": "python",
   "name": "python3"
  },
  "language_info": {
   "codemirror_mode": {
    "name": "ipython",
    "version": 3
   },
   "file_extension": ".py",
   "mimetype": "text/x-python",
   "name": "python",
   "nbconvert_exporter": "python",
   "pygments_lexer": "ipython3",
   "version": "3.11.5"
  }
 },
 "nbformat": 4,
 "nbformat_minor": 5
}
