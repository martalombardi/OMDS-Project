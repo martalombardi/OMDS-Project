{
 "cells": [
  {
   "cell_type": "code",
   "execution_count": 1,
   "id": "e3b4e047",
   "metadata": {},
   "outputs": [],
   "source": [
    "import os\n",
    "import sys\n",
    "import numpy as np\n",
    "import pandas as pd\n",
    "import joblib\n",
    "from sklearn.preprocessing import StandardScaler\n",
    "import seaborn as sns\n",
    "import matplotlib.pyplot as plt\n",
    "import importlib\n",
    "import Functions_23_Avino_Lombardi\n",
    "importlib.reload(Functions_23_Avino_Lombardi)\n",
    "from Functions_23_Avino_Lombardi import *\n",
    "base_dir = os.path.abspath(os.path.join(os.getcwd(), \"..\", \"Question 2\"))\n",
    "sys.path.append(base_dir)\n",
    "import Functions_22_Avino_Lombardi\n",
    "importlib.reload(Functions_22_Avino_Lombardi)\n",
    "from Functions_22_Avino_Lombardi import (\n",
    "    gaussian_kernel,\n",
    "    polynomial_kernel,\n",
    "    compute_accuracy,\n",
    "    compute_confusion_matrix,\n",
    ")\n",
    "\n",
    "\n",
    "X_train = joblib.load(\"../dataset/preprocessed_data/X_train.pkl\")\n",
    "X_test = joblib.load(\"../dataset/preprocessed_data/X_test.pkl\")\n",
    "y_train = joblib.load(\"../dataset/preprocessed_data/y_train.pkl\")\n",
    "y_test = joblib.load(\"../dataset/preprocessed_data/y_test.pkl\")"
   ]
  },
  {
   "cell_type": "code",
   "execution_count": 2,
   "id": "53dfd7da",
   "metadata": {},
   "outputs": [
    {
     "name": "stdout",
     "output_type": "stream",
     "text": [
      "[Early Stopping] Iteration 388, Δalpha = 0.000000 < tol = 0.001\n",
      "\n",
      "FINAL REPORT GAUSSIAN KERNEL\n"
     ]
    },
    {
     "data": {
      "application/vnd.microsoft.datawrangler.viewer.v0+json": {
       "columns": [
        {
         "name": "index",
         "rawType": "int64",
         "type": "integer"
        },
        {
         "name": "KERNEL",
         "rawType": "object",
         "type": "string"
        },
        {
         "name": "C",
         "rawType": "float64",
         "type": "float"
        },
        {
         "name": "gamma",
         "rawType": "float64",
         "type": "float"
        },
        {
         "name": "TRAIN ACCURACY",
         "rawType": "float64",
         "type": "float"
        },
        {
         "name": "TEST ACCURACY",
         "rawType": "float64",
         "type": "float"
        },
        {
         "name": "NUMBER OF ITERATIONS",
         "rawType": "int64",
         "type": "integer"
        },
        {
         "name": "CPU TIME (s)",
         "rawType": "float64",
         "type": "float"
        },
        {
         "name": "INITIAL DUAL OBJ VALUE",
         "rawType": "float64",
         "type": "float"
        },
        {
         "name": "FINAL DUAL OBJ VALUE",
         "rawType": "float64",
         "type": "float"
        }
       ],
       "ref": "802d35f2-b0a3-4754-bc08-5e2ea2d95982",
       "rows": [
        [
         "0",
         "gaussian_kernel",
         "1.0",
         "0.1",
         "0.92",
         "0.91",
         "388",
         "3.3443",
         "0.0",
         "-135.3948"
        ]
       ],
       "shape": {
        "columns": 9,
        "rows": 1
       }
      },
      "text/html": [
       "<div>\n",
       "<style scoped>\n",
       "    .dataframe tbody tr th:only-of-type {\n",
       "        vertical-align: middle;\n",
       "    }\n",
       "\n",
       "    .dataframe tbody tr th {\n",
       "        vertical-align: top;\n",
       "    }\n",
       "\n",
       "    .dataframe thead th {\n",
       "        text-align: right;\n",
       "    }\n",
       "</style>\n",
       "<table border=\"1\" class=\"dataframe\">\n",
       "  <thead>\n",
       "    <tr style=\"text-align: right;\">\n",
       "      <th></th>\n",
       "      <th>KERNEL</th>\n",
       "      <th>C</th>\n",
       "      <th>gamma</th>\n",
       "      <th>TRAIN ACCURACY</th>\n",
       "      <th>TEST ACCURACY</th>\n",
       "      <th>NUMBER OF ITERATIONS</th>\n",
       "      <th>CPU TIME (s)</th>\n",
       "      <th>INITIAL DUAL OBJ VALUE</th>\n",
       "      <th>FINAL DUAL OBJ VALUE</th>\n",
       "    </tr>\n",
       "  </thead>\n",
       "  <tbody>\n",
       "    <tr>\n",
       "      <th>0</th>\n",
       "      <td>gaussian_kernel</td>\n",
       "      <td>1.0</td>\n",
       "      <td>0.1</td>\n",
       "      <td>0.92</td>\n",
       "      <td>0.91</td>\n",
       "      <td>388</td>\n",
       "      <td>3.3443</td>\n",
       "      <td>0.0</td>\n",
       "      <td>-135.3948</td>\n",
       "    </tr>\n",
       "  </tbody>\n",
       "</table>\n",
       "</div>"
      ],
      "text/plain": [
       "            KERNEL    C  gamma  TRAIN ACCURACY  TEST ACCURACY  \\\n",
       "0  gaussian_kernel  1.0    0.1            0.92           0.91   \n",
       "\n",
       "   NUMBER OF ITERATIONS  CPU TIME (s)  INITIAL DUAL OBJ VALUE  \\\n",
       "0                   388        3.3443                     0.0   \n",
       "\n",
       "   FINAL DUAL OBJ VALUE  \n",
       "0             -135.3948  "
      ]
     },
     "metadata": {},
     "output_type": "display_data"
    },
    {
     "data": {
      "image/png": "[encoded data removed]",
      "text/plain": [
       "<Figure size 600x400 with 1 Axes>"
      ]
     },
     "metadata": {},
     "output_type": "display_data"
    }
   ],
   "source": [
    "# === STEP 1: TRAINING MVP MODEL ===\n",
    "C = 1.0\n",
    "gamma = 0.1\n",
    "tol = 1e-3\n",
    "max_iter = 5000\n",
    "\n",
    "gaussian_model = MVP(C=C,\n",
    "                kernel_func=gaussian_kernel,\n",
    "                kernel_params={'gamma': gamma},\n",
    "                tol=tol,\n",
    "                max_iter=max_iter)\n",
    "\n",
    "\n",
    "gaussian_model.fit(X_train, y_train)\n",
    "\n",
    "# === STEP 2: PREDICTION ===\n",
    "gaussian_y_train_pred = gaussian_model._predict(X_train)\n",
    "gaussian_y_test_pred = gaussian_model._predict(X_test)\n",
    "\n",
    "# === STEP 3: ACCURACY ===\n",
    "gaussian_train_acc = compute_accuracy(y_train, gaussian_y_train_pred)\n",
    "gaussian_test_acc = compute_accuracy(y_test, gaussian_y_test_pred)\n",
    "\n",
    "# === STEP 4: REPORT ===\n",
    "gaussian_df_report = pd.DataFrame([{\n",
    "    \"KERNEL\": \"gaussian_kernel\",\n",
    "    \"C\": C,\n",
    "    \"gamma\": gamma,\n",
    "    \"TRAIN ACCURACY\": round(gaussian_train_acc, 4),\n",
    "    \"TEST ACCURACY\": round(gaussian_test_acc, 4),\n",
    "    \"NUMBER OF ITERATIONS\": gaussian_model.n_iter_,\n",
    "    \"CPU TIME (s)\": round(gaussian_model.last_cpu_time, 4),\n",
    "    \"INITIAL DUAL OBJ VALUE\": round(gaussian_model.initial_dual_obj, 4),\n",
    "    \"FINAL DUAL OBJ VALUE\": round(gaussian_model.dual_objective(), 4)\n",
    "}])\n",
    "\n",
    "print(\"\\nFINAL REPORT GAUSSIAN KERNEL\")\n",
    "display(gaussian_df_report)\n",
    "\n",
    "# === STEP 5: CONFUSION MATRIX ===\n",
    "gaussian_conf_matrix = compute_confusion_matrix(y_test, gaussian_y_test_pred)\n",
    "plt.figure(figsize=(6, 4))\n",
    "sns.heatmap(gaussian_conf_matrix, annot=True, fmt=\"d\", cmap=\"Blues\", cbar=False,\n",
    "            linewidths=1, linecolor='gray')\n",
    "plt.title(\"Confusion Matrix - Gaussian Kernel (Test Set)\")\n",
    "plt.ylabel(\"True label\")\n",
    "plt.xlabel(\"Predicted label\")\n",
    "plt.tight_layout()\n",
    "plt.show()"
   ]
  },
  {
   "cell_type": "code",
   "execution_count": 3,
   "id": "12892e0f",
   "metadata": {},
   "outputs": [
    {
     "name": "stdout",
     "output_type": "stream",
     "text": [
      "[Early Stopping] Iteration 1364, Δalpha = 0.000871 < tol = 0.001\n",
      "\n",
      "FINAL REPORT GAUSSIAN KERNEL\n"
     ]
    },
    {
     "data": {
      "application/vnd.microsoft.datawrangler.viewer.v0+json": {
       "columns": [
        {
         "name": "index",
         "rawType": "int64",
         "type": "integer"
        },
        {
         "name": "KERNEL",
         "rawType": "object",
         "type": "string"
        },
        {
         "name": "C",
         "rawType": "int64",
         "type": "integer"
        },
        {
         "name": "gamma",
         "rawType": "float64",
         "type": "float"
        },
        {
         "name": "TRAIN ACCURACY",
         "rawType": "float64",
         "type": "float"
        },
        {
         "name": "TEST ACCURACY",
         "rawType": "float64",
         "type": "float"
        },
        {
         "name": "NUMBER OF ITERATIONS",
         "rawType": "int64",
         "type": "integer"
        },
        {
         "name": "CPU TIME (s)",
         "rawType": "float64",
         "type": "float"
        },
        {
         "name": "INITIAL DUAL OBJ VALUE",
         "rawType": "float64",
         "type": "float"
        },
        {
         "name": "FINAL DUAL OBJ VALUE",
         "rawType": "float64",
         "type": "float"
        }
       ],
       "ref": "86a00dc4-62fe-4887-a422-fccda474ee7c",
       "rows": [
        [
         "0",
         "polynomial_kernel",
         "1",
         "0.1",
         "0.9188",
         "0.905",
         "1364",
         "33.6229",
         "0.0",
         "-125.6804"
        ]
       ],
       "shape": {
        "columns": 9,
        "rows": 1
       }
      },
      "text/html": [
       "<div>\n",
       "<style scoped>\n",
       "    .dataframe tbody tr th:only-of-type {\n",
       "        vertical-align: middle;\n",
       "    }\n",
       "\n",
       "    .dataframe tbody tr th {\n",
       "        vertical-align: top;\n",
       "    }\n",
       "\n",
       "    .dataframe thead th {\n",
       "        text-align: right;\n",
       "    }\n",
       "</style>\n",
       "<table border=\"1\" class=\"dataframe\">\n",
       "  <thead>\n",
       "    <tr style=\"text-align: right;\">\n",
       "      <th></th>\n",
       "      <th>KERNEL</th>\n",
       "      <th>C</th>\n",
       "      <th>gamma</th>\n",
       "      <th>TRAIN ACCURACY</th>\n",
       "      <th>TEST ACCURACY</th>\n",
       "      <th>NUMBER OF ITERATIONS</th>\n",
       "      <th>CPU TIME (s)</th>\n",
       "      <th>INITIAL DUAL OBJ VALUE</th>\n",
       "      <th>FINAL DUAL OBJ VALUE</th>\n",
       "    </tr>\n",
       "  </thead>\n",
       "  <tbody>\n",
       "    <tr>\n",
       "      <th>0</th>\n",
       "      <td>polynomial_kernel</td>\n",
       "      <td>1</td>\n",
       "      <td>0.1</td>\n",
       "      <td>0.9188</td>\n",
       "      <td>0.905</td>\n",
       "      <td>1364</td>\n",
       "      <td>33.6229</td>\n",
       "      <td>0.0</td>\n",
       "      <td>-125.6804</td>\n",
       "    </tr>\n",
       "  </tbody>\n",
       "</table>\n",
       "</div>"
      ],
      "text/plain": [
       "              KERNEL  C  gamma  TRAIN ACCURACY  TEST ACCURACY  \\\n",
       "0  polynomial_kernel  1    0.1          0.9188          0.905   \n",
       "\n",
       "   NUMBER OF ITERATIONS  CPU TIME (s)  INITIAL DUAL OBJ VALUE  \\\n",
       "0                  1364       33.6229                     0.0   \n",
       "\n",
       "   FINAL DUAL OBJ VALUE  \n",
       "0             -125.6804  "
      ]
     },
     "metadata": {},
     "output_type": "display_data"
    },
    {
     "data": {
      "image/png": "[encoded data removed]",
      "text/plain": [
       "<Figure size 600x400 with 1 Axes>"
      ]
     },
     "metadata": {},
     "output_type": "display_data"
    }
   ],
   "source": [
    "# === STEP 1: TRAINING MVP MODEL ===\n",
    "C = 1\n",
    "p = 2\n",
    "tol = 1e-3\n",
    "max_iter = 5000\n",
    "\n",
    "polynomial_model = MVP(C=C,\n",
    "                kernel_func=polynomial_kernel,\n",
    "                kernel_params={'p': p},\n",
    "                tol=tol,\n",
    "                max_iter=max_iter)\n",
    "\n",
    "\n",
    "polynomial_model.fit(X_train, y_train)\n",
    "\n",
    "# === STEP 2: PREDICTION ===\n",
    "polynomial_y_train_pred = polynomial_model._predict(X_train)\n",
    "polynomial_y_test_pred = polynomial_model._predict(X_test)\n",
    "\n",
    "# === STEP 3: ACCURACY ===\n",
    "polynomial_train_acc = compute_accuracy(y_train, polynomial_y_train_pred)\n",
    "polynomial_test_acc = compute_accuracy(y_test, polynomial_y_test_pred)\n",
    "\n",
    "# === STEP 4: REPORT ===\n",
    "polynomial_df_report = pd.DataFrame([{\n",
    "    \"KERNEL\": \"polynomial_kernel\",\n",
    "    \"C\": C,\n",
    "    \"gamma\": gamma,\n",
    "    \"TRAIN ACCURACY\": round(polynomial_train_acc, 4),\n",
    "    \"TEST ACCURACY\": round(polynomial_test_acc, 4),\n",
    "    \"NUMBER OF ITERATIONS\": polynomial_model.n_iter_,\n",
    "    \"CPU TIME (s)\": round(polynomial_model.last_cpu_time, 4),\n",
    "    \"INITIAL DUAL OBJ VALUE\": round(polynomial_model.initial_dual_obj, 4),\n",
    "    \"FINAL DUAL OBJ VALUE\": round(polynomial_model.dual_objective(), 4)\n",
    "}])\n",
    "\n",
    "print(\"\\nFINAL REPORT GAUSSIAN KERNEL\")\n",
    "display(polynomial_df_report)\n",
    "\n",
    "# === STEP 5: CONFUSION MATRIX ===\n",
    "polynomial_conf_matrix = compute_confusion_matrix(y_test, polynomial_y_test_pred)\n",
    "plt.figure(figsize=(6, 4))\n",
    "sns.heatmap(polynomial_conf_matrix, annot=True, fmt=\"d\", cmap=\"Blues\", cbar=False,\n",
    "            linewidths=1, linecolor='gray')\n",
    "plt.title(\"Confusion Matrix - Polynomial Kernel (Test Set)\")\n",
    "plt.ylabel(\"True label\")\n",
    "plt.xlabel(\"Predicted label\")\n",
    "plt.tight_layout()\n",
    "plt.show()"
   ]
  }
 ],
 "metadata": {
  "kernelspec": {
   "display_name": "Python 3",
   "language": "python",
   "name": "python3"
  },
  "language_info": {
   "codemirror_mode": {
    "name": "ipython",
    "version": 3
   },
   "file_extension": ".py",
   "mimetype": "text/x-python",
   "name": "python",
   "nbconvert_exporter": "python",
   "pygments_lexer": "ipython3",
   "version": "3.11.5"
  }
 },
 "nbformat": 4,
 "nbformat_minor": 5
}
